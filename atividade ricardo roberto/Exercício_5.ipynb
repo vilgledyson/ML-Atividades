{
  "cells": [
    {
      "cell_type": "markdown",
      "metadata": {
        "colab_type": "text",
        "id": "view-in-github"
      },
      "source": [
        "<a href=\"https://colab.research.google.com/github/pedrohp09/Machine-Learning/blob/main/Exerc%C3%ADcio_5.ipynb\" target=\"_parent\"><img src=\"https://colab.research.google.com/assets/colab-badge.svg\" alt=\"Open In Colab\"/></a>"
      ]
    },
    {
      "cell_type": "markdown",
      "metadata": {
        "id": "RZQ8-L8PmtAT"
      },
      "source": [
        "atividade 5\n",
        "aluno : vilgledyson nobrega dos santos\n",
        "professor : ricardo roberto "
      ]
    },
    {
      "cell_type": "code",
      "execution_count": null,
      "metadata": {
        "id": "f2cl1pX0n8Zy"
      },
      "outputs": [],
      "source": [
        "import pandas as pd\n",
        "import numpy as np\n",
        "import matplotlib.pyplot as plt\n",
        "from sklearn.metrics.pairwise import cosine_similarity\n",
        "\n",
        "file_path = 'top_rated_9000_movies_on_TMDB.csv'\n",
        "movies = pd.read_csv(file_path)\n",
        "\n",
        "print(movies.head())\n",
        "\n",
        "num_users = 100\n",
        "num_movies = len(movies)\n",
        "np.random.seed(42)\n",
        "ratings_matrix = np.random.randint(1, 6, size=(num_users, num_movies))  # Avaliações entre 1 e 5\n",
        "\n",
        "item_similarity = cosine_similarity(ratings_matrix.T)\n",
        "\n",
        "def get_recommendations_based_on_item(movie_title, item_similarity, movies, n_recommendations=5):\n",
        "    movie_idx = movies[movies['title'] == movie_title].index[0]\n",
        "    similar_scores = list(enumerate(item_similarity[movie_idx]))\n",
        "    similar_scores = sorted(similar_scores, key=lambda x: x[1], reverse=True)\n",
        "    similar_scores = similar_scores[1:n_recommendations + 1]\n",
        "    movie_indices = [i[0] for i in similar_scores]\n",
        "    return movies.iloc[movie_indices]\n",
        "\n",
        "recommended_movies = get_recommendations_based_on_item('The Shawshank Redemption', item_similarity, movies)\n",
        "\n",
        "def plot_recommendations(recommended_movies):\n",
        "    plt.figure(figsize=(10, 5))\n",
        "    plt.barh(recommended_movies['title'], recommended_movies['vote_average'], color='skyblue')\n",
        "    plt.xlabel('Vote Average')\n",
        "    plt.title('Recommended Movies Based on Item Similarity')\n",
        "    plt.gca().invert_yaxis()\n",
        "    plt.show()\n",
        "\n",
        "plot_recommendations(recommended_movies)\n",
        "\n",
        "user_similarity = cosine_similarity(ratings_matrix)\n",
        "\n",
        "def get_recommendations_based_on_user(user_id, user_similarity, ratings_matrix, movies, n_recommendations=5):\n",
        "    similar_users = list(enumerate(user_similarity[user_id]))\n",
        "    similar_users = sorted(similar_users, key=lambda x: x[1], reverse=True)\n",
        "    user_ratings = ratings_matrix[user_id]\n",
        "    scores = np.zeros(len(movies))\n",
        "    for i, (similar_user, score) in enumerate(similar_users):\n",
        "        if i == 0:\n",
        "            continue\n",
        "        scores += score * ratings_matrix[similar_user]\n",
        "    recommended_indices = np.argsort(scores)[-n_recommendations:][::-1]\n",
        "    return movies.iloc[recommended_indices]\n",
        "\n",
        "recommended_movies_user = get_recommendations_based_on_user(0, user_similarity, ratings_matrix, movies)\n",
        "\n",
        "plot_recommendations(recommended_movies_user)\n",
        "\n",
        "print(\"\\nRecomendações baseadas em item para 'The Shawshank Redemption':\")\n",
        "print(recommended_movies[['title', 'vote_average']])\n",
        "\n",
        "print(\"\\nRecomendações baseadas em usuário para o usuário 0:\")\n",
        "print(recommended_movies_user[['title', 'vote_average']])"
      ]
    }
  ],
  "metadata": {
    "colab": {
      "authorship_tag": "ABX9TyPeD4oG8q8Nx4qtGgpMm3df",
      "include_colab_link": true,
      "provenance": []
    },
    "kernelspec": {
      "display_name": "Python 3",
      "name": "python3"
    },
    "language_info": {
      "name": "python"
    }
  },
  "nbformat": 4,
  "nbformat_minor": 0
}
